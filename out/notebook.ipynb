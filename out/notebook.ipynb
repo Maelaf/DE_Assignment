{
 "cells": [
  {
   "cell_type": "markdown",
   "metadata": {},
   "source": [
    "# The Third Task in Assignment : Data Modelling"
   ]
  },
  {
   "cell_type": "markdown",
   "metadata": {},
   "source": [
    "Data Modelling\n",
    "Yassir, a Super App that encompasses taxi services, food and grocery delivery, and last-mile delivery services. You are\n",
    "asked to design a scalable and optimized data model for a taxi service domain to serve ad-hoc, self-serve and advance\n",
    "analytics requests.\n",
    "\n",
    "Deliverables:\n",
    "- Create all necessary data structures required for the model.\n",
    "- Design a physical data model for the taxi service domain.\n",
    "- List some KPI’s can be derived from the proposed data model with the appropriate SQL queries"
   ]
  },
  {
   "cell_type": "markdown",
   "metadata": {
    "metadata": {}
   },
   "source": [
    "### Introduction\n",
    "\n",
    "This report details the design of a scalable and optimized data model for a taxi service. The model caters to ad-hoc, self-serve, and advanced analytics requests, enabling efficient data storage, retrieval, and analysis."
   ]
  },
  {
   "cell_type": "code",
   "execution_count": null,
   "metadata": {},
   "outputs": [],
   "source": []
  },
  {
   "cell_type": "markdown",
   "metadata": {},
   "source": [
    "### The data model prioritizes the following aspects:\n",
    "\n",
    "- Scalability: The model anticipates future data growth. Using a columnar data store like Apache Parquet with data partitioning by date or year allows for efficient scaling.\n",
    "\n",
    "- Performance: The chosen data structures and relationships minimize redundancy and optimize query execution.\n",
    "\n",
    "- Flexibility: The model can accommodate new data elements and analytical requirements by introducing additional tables or modifying existing ones.\n",
    "Model Construction\n",
    "\n",
    "### The model consists of the following core tables:\n",
    "\n",
    "- Trips: This central table stores essential trip information like timestamps, locations (pickup/dropoff), distance, fare, and ratings.\n",
    "\n",
    "- Drivers: This table stores driver details like name, license plate, car model, and average rating.\n",
    "\n",
    "- Riders: This table stores rider details like name and phone number.\n",
    "\n",
    "- Locations: This table captures specific pickup and dropoff locations with addresses and coordinates.\n",
    "\n",
    "- Time: This dimension table provides temporal context for date, hour, day of week, etc."
   ]
  },
  {
   "cell_type": "markdown",
   "metadata": {},
   "source": [
    "## Model Construction\n",
    "\n",
    "### The model consists of the following core tables:\n",
    "\n",
    "- Trips: This central table stores essential trip information like timestamps, locations (pickup/dropoff), distance, fare, and ratings.\n",
    "- Drivers: This table stores driver details like name, license plate, car model, and average rating.\n",
    "- Customers: This table stores customer details like name and phone number.\n",
    "- Locations: This table captures specific pickup and dropoff locations with addresses and coordinates.\n",
    "- Time: This dimension table provides temporal context for date, hour, day of week, etc.\n",
    "- Relationships\n",
    "\n",
    "- Trips reference Drivers and Riders through foreign keys for driver and rider identification.\n",
    "- Trips have a one-to-many relationship with Locations, allowing for recording both pickup and dropoff points.\n",
    "- The Time table joins with Trips to enable time-based analysis.\n",
    "\n",
    "### Benefits of this approach:\n",
    "\n",
    "- Separation of Concerns: Each table focuses on a specific entity (trips, drivers, riders, locations, time), promoting data integrity and reducing redundancy.\n",
    "- Efficient Joins: Foreign keys and relationships facilitate efficient data retrieval through well-defined joins.\n",
    "- Flexibility: The model can be extended by adding new tables (e.g., for promotions or complaints) or modifying existing ones.\n",
    "\n",
    "### Conclusion\n",
    "\n",
    "This data model offers a robust foundation for building a scalable and optimized data ecosystem for taxi service analytics. The chosen structures and relationships ensure efficient data storage, retrieval, and analysis, empowering data-driven decision making for the taxi service.\n",
    " \n",
    "### Further Considerations\n",
    "\n",
    "- Partitioning\n",
    "- The model can be further optimized by implementing denormalization techniques for frequently joined tables.\n",
    "- Materialized views can be created for pre-computed data sets to improve query performance for frequently asked questions.\n",
    "- A data warehouse or data lake can be integrated for long-term historical data storage and advanced analytics."
   ]
  },
  {
   "cell_type": "markdown",
   "metadata": {
    "metadata": {}
   },
   "source": [
    "KPIs and SQL Queries\n",
    "Here are some examples of KPIs and corresponding SQL queries:\n",
    "\n",
    "\n",
    "Total Revenue:\n"
   ]
  },
  {
   "cell_type": "markdown",
   "metadata": {
    "metadata": {}
   },
   "source": [
    "\n",
    "SQL\n",
    "SELECT SUM(fare_amount) AS total_revenue\n",
    "FROM Trips;\n"
   ]
  },
  {
   "cell_type": "markdown",
   "metadata": {},
   "source": []
  },
  {
   "cell_type": "markdown",
   "metadata": {},
   "source": [
    "\n",
    "Average Trip Distance:\n",
    "\n",
    "SQL\n",
    "SELECT AVG(distance) AS average_distance\n",
    "FROM Trips;\n",
    "\n",
    "\n",
    "\n",
    "Most Popular Pickup Locations:\n",
    "\n",
    "SQL\n",
    "SELECT pickup_location_id, COUNT(*) AS pickup_count\n",
    "FROM (\n",
    "  SELECT location_id AS pickup_location_id\n",
    "  FROM Trips\n",
    "  WHERE location_type = 'pickup'\n",
    ") AS pickup_locations\n",
    "GROUP BY pickup_location_id\n",
    "ORDER BY pickup_count DESC\n",
    "LIMIT 10;\n",
    "\n",
    "\n",
    "\n",
    "Driver Performance (Average Rating):\n",
    "\n",
    "SQL\n",
    "SELECT driver_id, AVG(rating) AS average_rating\n",
    "FROM Trips\n",
    "GROUP BY driver_id\n",
    "ORDER BY average_rating DESC;\n",
    "\n",
    "\n",
    "\n",
    "Trips by Hour of Day:\n",
    "\n",
    "SQL\n",
    "SELECT t.hour, COUNT(*) AS trip_count\n",
    "FROM Trips t\n",
    "INNER JOIN Time ON t.request_time = Time.date\n",
    "GROUP BY t.hour\n",
    "ORDER BY t.hour;\n",
    "\n",
    "\n",
    "\n",
    "Rides per Rider:\n",
    "\n",
    "SQL\n",
    "SELECT rider_id, COUNT(*) AS ride_count\n",
    "FROM Trips\n",
    "GROUP BY rider_id\n",
    "ORDER BY ride_count DESC;\n",
    "\n",
    "\n",
    "\n",
    "Revenue by Rider City:\n",
    "\n",
    "SQL\n",
    "SELECT r.city, SUM(t.fare_amount) AS total_revenue\n",
    "FROM Trips t\n",
    "INNER JOIN Riders r ON t.rider_id = r.rider_id\n",
    "GROUP BY r.city\n",
    "ORDER BY total_revenue DESC;\n",
    "\n",
    "\n",
    "\n",
    "Trip Frequency by Day of Week:\n",
    "\n",
    "SQL\n",
    "SELECT t.day_of_week, COUNT(*) AS trip_count\n",
    "FROM Trips t\n",
    "INNER JOIN Time ON t.request_time = Time.date\n",
    "GROUP BY t.day_of_week\n",
    "ORDER BY trip_count DESC;\n",
    "\n",
    "\n",
    "\n"
   ]
  },
  {
   "cell_type": "markdown",
   "metadata": {},
   "source": []
  },
  {
   "cell_type": "markdown",
   "metadata": {},
   "source": []
  },
  {
   "cell_type": "markdown",
   "metadata": {},
   "source": []
  },
  {
   "cell_type": "markdown",
   "metadata": {},
   "source": []
  },
  {
   "cell_type": "markdown",
   "metadata": {},
   "source": []
  },
  {
   "cell_type": "markdown",
   "metadata": {},
   "source": []
  },
  {
   "cell_type": "markdown",
   "metadata": {},
   "source": []
  },
  {
   "cell_type": "markdown",
   "metadata": {},
   "source": []
  },
  {
   "cell_type": "markdown",
   "metadata": {},
   "source": []
  },
  {
   "cell_type": "markdown",
   "metadata": {},
   "source": []
  },
  {
   "cell_type": "markdown",
   "metadata": {},
   "source": []
  },
  {
   "cell_type": "markdown",
   "metadata": {},
   "source": []
  },
  {
   "cell_type": "markdown",
   "metadata": {},
   "source": []
  }
 ],
 "metadata": {
  "kernelspec": {
   "display_name": "Python 3",
   "language": "python",
   "name": "python3"
  },
  "language_info": {
   "codemirror_mode": {
    "name": "ipython",
    "version": 3
   },
   "file_extension": ".py",
   "mimetype": "text/x-python",
   "name": "python",
   "nbconvert_exporter": "python",
   "pygments_lexer": "ipython3",
   "version": "3.10.12"
  }
 },
 "nbformat": 4,
 "nbformat_minor": 2
}
